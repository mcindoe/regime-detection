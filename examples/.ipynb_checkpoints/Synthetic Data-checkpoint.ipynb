{
 "cells": [
  {
   "cell_type": "code",
   "execution_count": null,
   "metadata": {},
   "outputs": [],
   "source": [
    "import json\n",
    "import matplotlib.pyplot as plt\n",
    "from matplotlib.lines import Line2D\n",
    "from math import exp\n",
    "from math import factorial\n",
    "import numpy as np\n",
    "from numpy import sign\n",
    "import pickle\n",
    "import seaborn as sns\n",
    "import signatory\n",
    "from signatory import logsignature_channels\n",
    "from signatory import signature_channels\n",
    "import sys\n",
    "import torch\n",
    "\n",
    "sys.path.insert(1, '../src/')"
   ]
  },
  {
   "cell_type": "code",
   "execution_count": null,
   "metadata": {},
   "outputs": [],
   "source": [
    "from azran_ghahramani import delta_k_t\n",
    "from azran_ghahramani import get_eigengap_values\n",
    "from azran_ghahramani import get_maximal_eigengap_information\n",
    "from azran_ghahramani import K_prototypes\n",
    "from azran_ghahramani import make_distances\n",
    "from azran_ghahramani import make_W_D_from_distances\n",
    "from azran_ghahramani import maximal_eigengap\n",
    "from azran_ghahramani import multiscale_k_prototypes_from_W_D\n",
    "from azran_ghahramani import star_shaped_init\n",
    "from azran_ghahramani import n_clusters_best_revealed\n",
    "from kernels import make_laplacian_kernel\n",
    "from metrics import make_mmd_metric\n",
    "from metrics import euclid_distance\n",
    "from metrics import average_euclidean_distance\n",
    "from similarities import make_gaussian_similarity\n",
    "from utils import make_colours"
   ]
  },
  {
   "cell_type": "code",
   "execution_count": null,
   "metadata": {},
   "outputs": [],
   "source": [
    "REGIMES = [\n",
    "    {'mean': 0.001, 'std_dev': 0.008},\n",
    "    {'mean': 0.001, 'std_dev': 0.003},\n",
    "    {'mean': -0.001, 'std_dev': 0.008},\n",
    "    {'mean': -0.001, 'std_dev': 0.003},\n",
    "    {'mean': 0, 'std_dev': 0.008}\n",
    "]"
   ]
  },
  {
   "cell_type": "code",
   "execution_count": null,
   "metadata": {},
   "outputs": [],
   "source": [
    "# Load precomputed data - already comes equipped with signature terms but\n",
    "# computation is still demonstrated in this script\n",
    "with open('../data/synthetic_data.pkl', 'rb') as fp:\n",
    "    data = pickle.load(fp)"
   ]
  },
  {
   "cell_type": "code",
   "execution_count": null,
   "metadata": {},
   "outputs": [],
   "source": [
    "def get_signature_cutoffs(channels, depth):\n",
    "    return tuple(signature_channels(\n",
    "        channels,\n",
    "        depth = d\n",
    "    ) for d in range(1, depth+1))"
   ]
  },
  {
   "cell_type": "code",
   "execution_count": null,
   "metadata": {},
   "outputs": [],
   "source": [
    "def get_logsignature_cutoffs(channels, depth):\n",
    "    '''\n",
    "    Returns the number of terms up to and including each depth\n",
    "    Returns the number of terms at each depth in a logsignature vector for\n",
    "    a given number of input channels\n",
    "    '''\n",
    "    return tuple(logsignature_channels(\n",
    "        channels,\n",
    "        depth = d\n",
    "    ) for d in range(1, depth+1))"
   ]
  },
  {
   "cell_type": "code",
   "execution_count": null,
   "metadata": {},
   "outputs": [],
   "source": [
    "SIGNATURE_DEPTH = 3"
   ]
  },
  {
   "cell_type": "code",
   "execution_count": null,
   "metadata": {},
   "outputs": [],
   "source": [
    "def scale_vector(orig, min_vec, range_vec, skipped_indices=None):\n",
    "    assert len(orig) == len(min_vec) == len(range_vec)\n",
    "    \n",
    "    scaled_indices = range(len(orig))\n",
    "    if skipped_indices is not None:\n",
    "        scaled_indices = [n for n in range(len(orig)) if n not in skipped_indices]\n",
    "        \n",
    "    scaled_vec = []\n",
    "    for n in range(len(orig)):\n",
    "        if n in scaled_indices:\n",
    "            entry = orig[n]\n",
    "            scaled_entry = (entry - min_vec[n]) / range_vec[n]\n",
    "            scaled_vec.append(scaled_entry)\n",
    "        else:\n",
    "            scaled_vec.append(0)\n",
    "        \n",
    "    return scaled_vec"
   ]
  },
  {
   "cell_type": "markdown",
   "metadata": {},
   "source": [
    "### Scale signature terms"
   ]
  },
  {
   "cell_type": "code",
   "execution_count": null,
   "metadata": {},
   "outputs": [],
   "source": [
    "get_signature_cutoffs(channels=2, depth=SIGNATURE_DEPTH)"
   ]
  },
  {
   "cell_type": "code",
   "execution_count": null,
   "metadata": {},
   "outputs": [],
   "source": [
    "def root_signature_vector(vec, cutoffs, depth):\n",
    "    scaled_vec = vec[:cutoffs[0]]\n",
    "    \n",
    "    for level in range(2, depth+1):\n",
    "        previous_cutoff = cutoffs[level-2]\n",
    "        level_cutoff = cutoffs[level-1]\n",
    "        terms = vec[previous_cutoff:level_cutoff]\n",
    "        scaled_terms = [sign(el) * (abs(el) ** (1/level)) for el in terms]\n",
    "        scaled_vec += scaled_terms\n",
    "        \n",
    "    return scaled_vec"
   ]
  },
  {
   "cell_type": "code",
   "execution_count": null,
   "metadata": {},
   "outputs": [],
   "source": [
    "depth = SIGNATURE_DEPTH\n",
    "cutoffs = get_signature_cutoffs(channels=2, depth=depth)\n",
    "\n",
    "for el in data:\n",
    "    signatures = el['signatures']\n",
    "    rooted_signatures = [\n",
    "        root_signature_vector(sig, cutoffs, depth)\n",
    "        for sig in signatures\n",
    "    ]\n",
    "    el['rooted_signatures'] = rooted_signatures"
   ]
  },
  {
   "cell_type": "code",
   "execution_count": null,
   "metadata": {},
   "outputs": [],
   "source": [
    "def scale_key(data, key):\n",
    "    full_collection = [val.copy() for el in data for val in el[key]]\n",
    "    max_vector = [\n",
    "        max(el[n] for el in full_collection)\n",
    "        for n in range(len(full_collection[0]))\n",
    "    ]\n",
    "    min_vector = [\n",
    "        min(el[n] for el in full_collection)\n",
    "        for n in range(len(full_collection[0]))\n",
    "    ]\n",
    "    range_vector = [\n",
    "        max_el - min_el \n",
    "        for max_el, min_el in zip(max_vector, min_vector)\n",
    "    ]\n",
    "    skipped_indices = [\n",
    "        idx\n",
    "        for idx, el in enumerate(range_vector)\n",
    "        if np.isclose(el, 0)\n",
    "    ]\n",
    "    \n",
    "    for idx, el in enumerate(data):\n",
    "        values = el[key]\n",
    "        scaled_values = [\n",
    "            scale_vector(val, min_vector, range_vector, skipped_indices)\n",
    "            for val in values\n",
    "        ]\n",
    "        data[idx][f'scaled_{key}'] = scaled_values"
   ]
  },
  {
   "cell_type": "code",
   "execution_count": null,
   "metadata": {},
   "outputs": [],
   "source": [
    "scale_key(data, 'signatures')\n",
    "scale_key(data, 'logsignatures')\n",
    "scale_key(data, 'rooted_signatures')"
   ]
  },
  {
   "cell_type": "code",
   "execution_count": null,
   "metadata": {},
   "outputs": [],
   "source": [
    "regime_reps = {}\n",
    "for el in data:\n",
    "    regime_number = el['regime_number']\n",
    "    if regime_number not in regime_reps:\n",
    "        regime_reps[regime_number] = el.copy()"
   ]
  },
  {
   "cell_type": "code",
   "execution_count": null,
   "metadata": {},
   "outputs": [],
   "source": [
    "regime_paths = {n: [] for n in range(len(REGIMES))}\n",
    "for el in data:\n",
    "    regime_number = el['regime_number']\n",
    "    paths = el['points']\n",
    "    regime_paths[regime_number] += paths"
   ]
  },
  {
   "cell_type": "code",
   "execution_count": null,
   "metadata": {},
   "outputs": [],
   "source": [
    "regime_colours = [\n",
    "    'blue',\n",
    "    'green',\n",
    "    'black',\n",
    "    'purple',\n",
    "    'brown'\n",
    "]"
   ]
  },
  {
   "cell_type": "code",
   "execution_count": null,
   "metadata": {},
   "outputs": [],
   "source": [
    "sns.set()"
   ]
  },
  {
   "cell_type": "code",
   "execution_count": null,
   "metadata": {},
   "outputs": [],
   "source": [
    "PATHS_PER_ELEMENT = 5\n",
    "\n",
    "fig, ax = plt.subplots()\n",
    "\n",
    "for el in data:\n",
    "    regime_number = el['regime_number']\n",
    "    regime_colour = regime_colours[regime_number]\n",
    "    paths = el['points']\n",
    "    for path in paths[:PATHS_PER_ELEMENT]:\n",
    "        x_vals = [x[0] for x in path]\n",
    "        y_vals = [x[1] for x in path]\n",
    "        ax.plot(x_vals, y_vals, color=regime_colour, lw=0.15)\n",
    "\n",
    "plt.title('Simulated Brownian Motion Paths')\n",
    "plt.ylabel('Price')\n",
    "plt.xlabel('Time')\n",
    "\n",
    "legend_lines = [\n",
    "    Line2D([0], [0], color=regime_colours[n], lw=2)\n",
    "    for n in range(len(REGIMES))\n",
    "]\n",
    "legend_labels = [f'Regime {n+1}' for n in range(len(REGIMES))]\n",
    "\n",
    "plt.legend(legend_lines, legend_labels)\n",
    "plt.show()"
   ]
  },
  {
   "cell_type": "markdown",
   "metadata": {},
   "source": [
    "Investigate the effect of changing sigma in the resulting eigengap separation plot"
   ]
  },
  {
   "cell_type": "code",
   "execution_count": null,
   "metadata": {},
   "outputs": [],
   "source": [
    "def make_wrapped_metric(metric, key):\n",
    "    def f(info_dict_0, info_dict_1):\n",
    "        return metric(info_dict_0[key], info_dict_1[key])\n",
    "    return f"
   ]
  },
  {
   "cell_type": "code",
   "execution_count": null,
   "metadata": {},
   "outputs": [],
   "source": [
    "def make_gaussian_similarity_from_percentile(nonzero_distances, percentile):\n",
    "    sigma = np.percentile(nonzero_distances, percentile)\n",
    "    return make_gaussian_similarity(sigma)"
   ]
  },
  {
   "cell_type": "code",
   "execution_count": null,
   "metadata": {},
   "outputs": [],
   "source": [
    "def get_spectrum(matr):\n",
    "    evalues, evectors = np.linalg.eig(matr)\n",
    "    evectors = evectors.T\n",
    "    evectors = np.array([evectors[n] for n in range(len(evectors))])\n",
    "\n",
    "    # Sort eigenvalues from largest to smallest; update eigenvectors\n",
    "    idx = evalues.argsort()[::-1]\n",
    "    evalues = evalues[idx]\n",
    "    evectors = evectors[idx]\n",
    "    \n",
    "    return evalues, evectors"
   ]
  },
  {
   "cell_type": "code",
   "execution_count": null,
   "metadata": {},
   "outputs": [],
   "source": [
    "kernel = make_laplacian_kernel(sigma=0.1)\n",
    "mmd = make_mmd_metric(kernel, kernel_repeated_arg_value=1)\n",
    "metric = make_wrapped_metric(mmd, 'scaled_rooted_signatures')"
   ]
  },
  {
   "cell_type": "code",
   "execution_count": null,
   "metadata": {},
   "outputs": [],
   "source": [
    "distances = make_distances(data, metric)\n",
    "flat_distances = [el for ls in distances for el in ls]\n",
    "largest_distance = max(flat_distances)"
   ]
  },
  {
   "cell_type": "code",
   "execution_count": null,
   "metadata": {},
   "outputs": [],
   "source": [
    "fig, ax = plt.subplots()\n",
    "\n",
    "similarity_sigma = 0.05\n",
    "similarity = make_gaussian_similarity(similarity_sigma)\n",
    "self_similarity = similarity(largest_distance)\n",
    "\n",
    "W, D = make_W_D_from_distances(\n",
    "    len(data),\n",
    "    similarity,\n",
    "    distances,\n",
    "    self_similarity\n",
    ")\n",
    "\n",
    "transition_matrix = np.linalg.inv(D).dot(W)\n",
    "\n",
    "evalues, evectors = get_spectrum(transition_matrix)\n",
    "\n",
    "t_values_first_segment = list(range(1, 1000))\n",
    "t_values_second_segment = np.logspace(start=3, stop=13, num=1000).tolist()\n",
    "t_values = t_values_first_segment + t_values_second_segment\n",
    "\n",
    "eigengap_values = get_eigengap_values(t_values, evalues)    \n",
    "max_egap_vals, max_attained = get_maximal_eigengap_information(eigengap_values)\n",
    "\n",
    "colours = make_colours(len(max_attained))\n",
    "colours[2] = 'red'\n",
    "\n",
    "for idx, cluster in enumerate(max_attained):\n",
    "    cluster_colour = colours[idx]\n",
    "\n",
    "    cluster_egap_separation_values = list(eigengap_values[cluster].values())\n",
    "    plt.plot(t_values, cluster_egap_separation_values, color=cluster_colour)\n",
    "    maxima_value = max_attained[cluster]['suitability']\n",
    "    maxima_location = max_attained[cluster]['n_steps']\n",
    "    ax.axvline(\n",
    "        x = maxima_location,\n",
    "        color = cluster_colour,\n",
    "        linestyle = '--',\n",
    "        label = f'{cluster} Clusters Maxima'\n",
    "    )\n",
    "\n",
    "plt.xscale('log')\n",
    "plt.ylim(0, 1.2)\n",
    "plt.legend()\n",
    "plt.xlabel('Steps')\n",
    "plt.ylabel('Eigengap Separation')\n",
    "plt.title('Maximal Eigengap Separation for Number of Steps')\n",
    "\n",
    "output = multiscale_k_prototypes_from_W_D(data, W, D)\n",
    "print(json.dumps(output, indent=2))"
   ]
  },
  {
   "cell_type": "markdown",
   "metadata": {},
   "source": [
    "### Plot partition"
   ]
  },
  {
   "cell_type": "code",
   "execution_count": null,
   "metadata": {},
   "outputs": [],
   "source": [
    "def get_partition(results, n_clusters):\n",
    "    for el in results:\n",
    "        if el['n_clusters'] == n_clusters:\n",
    "            return el['partition']\n",
    "        \n",
    "    return None"
   ]
  },
  {
   "cell_type": "code",
   "execution_count": null,
   "metadata": {},
   "outputs": [],
   "source": [
    "N_PATHS_PER_ELEMENT = 5"
   ]
  },
  {
   "cell_type": "code",
   "execution_count": null,
   "metadata": {},
   "outputs": [],
   "source": [
    "cluster_colours = [\n",
    "    'darkblue',\n",
    "    'grey',\n",
    "    'darkgreen',\n",
    "    'brown',\n",
    "    'orange'\n",
    "]"
   ]
  },
  {
   "cell_type": "code",
   "execution_count": null,
   "metadata": {},
   "outputs": [],
   "source": [
    "fig, ax = plt.subplots()\n",
    "\n",
    "partition = get_partition(output, n_clusters=5)\n",
    "\n",
    "for cluster_idx, cluster in enumerate(partition):\n",
    "    cluster_col = regime_colours[cluster_idx]\n",
    "    \n",
    "    for idx in cluster:     \n",
    "        plotted_paths = data[idx]['points'][:N_PATHS_PER_ELEMENT]\n",
    "        for path in plotted_paths:\n",
    "            x_vals = [x[0] for x in path]\n",
    "            y_vals = [x[1] for x in path]\n",
    "            ax.plot(x_vals, y_vals, lw=0.1, color=cluster_col)\n",
    "            \n",
    "plt.xlabel('Time')\n",
    "plt.ylabel('Price')\n",
    "plt.title('5 Clusters - Separation 0.94')\n",
    "plt.show()"
   ]
  },
  {
   "cell_type": "code",
   "execution_count": null,
   "metadata": {},
   "outputs": [],
   "source": [
    "fig, ax = plt.subplots()\n",
    "\n",
    "partition = get_partition(output, n_clusters=2)\n",
    "\n",
    "for cluster_idx, cluster in enumerate(partition):\n",
    "    cluster_col = regime_colours[cluster_idx]\n",
    "    \n",
    "    for idx in cluster:     \n",
    "        plotted_paths = data[idx]['points'][:N_PATHS_PER_ELEMENT]\n",
    "        for path in plotted_paths:\n",
    "            x_vals = [x[0] for x in path]\n",
    "            y_vals = [x[1] for x in path]\n",
    "            ax.plot(x_vals, y_vals, lw=0.1, color=cluster_col)\n",
    "            \n",
    "plt.xlabel('Time')\n",
    "plt.ylabel('Price')\n",
    "plt.title('2 Clusters - Separation 0.73')\n",
    "plt.show()"
   ]
  }
 ],
 "metadata": {
  "kernelspec": {
   "display_name": "thesis",
   "language": "python",
   "name": "thesis"
  },
  "language_info": {
   "codemirror_mode": {
    "name": "ipython",
    "version": 3
   },
   "file_extension": ".py",
   "mimetype": "text/x-python",
   "name": "python",
   "nbconvert_exporter": "python",
   "pygments_lexer": "ipython3",
   "version": "3.8.5"
  }
 },
 "nbformat": 4,
 "nbformat_minor": 4
}
