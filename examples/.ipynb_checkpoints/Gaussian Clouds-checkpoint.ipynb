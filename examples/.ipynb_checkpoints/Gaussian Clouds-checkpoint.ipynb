{
 "cells": [
  {
   "cell_type": "code",
   "execution_count": null,
   "metadata": {},
   "outputs": [],
   "source": [
    "import json\n",
    "import matplotlib.pyplot as plt\n",
    "import numpy as np\n",
    "import pickle\n",
    "import random\n",
    "import seaborn as sns\n",
    "import sys\n",
    "\n",
    "sys.path.insert(1, '../src')"
   ]
  },
  {
   "cell_type": "code",
   "execution_count": null,
   "metadata": {},
   "outputs": [],
   "source": [
    "from azran_ghahramani import multiscale_k_prototypes\n",
    "from azran_ghahramani import K_prototypes\n",
    "from azran_ghahramani import make_distances\n",
    "from azran_ghahramani import make_W_D\n",
    "from azran_ghahramani import maximal_eigengap\n",
    "from azran_ghahramani import star_shaped_init\n",
    "from azran_ghahramani import get_eigengap_values\n",
    "from azran_ghahramani import get_maximal_eigengap_information\n",
    "from kernels import make_laplacian_kernel\n",
    "from metrics import euclid_distance\n",
    "from similarities import inverse\n",
    "from similarities import inverse_squared\n",
    "from similarities import make_gaussian_similarity\n",
    "from similarities import make_gaussian_similarity_from_percentile\n",
    "from utils import make_colours"
   ]
  },
  {
   "cell_type": "markdown",
   "metadata": {},
   "source": [
    "# Example 1"
   ]
  },
  {
   "cell_type": "code",
   "execution_count": null,
   "metadata": {},
   "outputs": [],
   "source": [
    "def similarity(x):\n",
    "    if x == 0:\n",
    "        return 0\n",
    "    return 1 / (x**3)\n",
    "\n",
    "metric = euclid_distance"
   ]
  },
  {
   "cell_type": "code",
   "execution_count": null,
   "metadata": {},
   "outputs": [],
   "source": [
    "points_filename = '../data/gaussian_clouds_1.pkl'"
   ]
  },
  {
   "cell_type": "code",
   "execution_count": null,
   "metadata": {},
   "outputs": [],
   "source": [
    "with open(points_filename, 'rb') as fp:\n",
    "    points = pickle.load(fp)"
   ]
  },
  {
   "cell_type": "code",
   "execution_count": null,
   "metadata": {},
   "outputs": [],
   "source": [
    "x_coords = [el[0] for el in points]\n",
    "y_coords = [el[1] for el in points]"
   ]
  },
  {
   "cell_type": "code",
   "execution_count": null,
   "metadata": {},
   "outputs": [],
   "source": [
    "sns.set_style(\"darkgrid\", {\"axes.facecolor\": \".9\"})"
   ]
  },
  {
   "cell_type": "code",
   "execution_count": null,
   "metadata": {},
   "outputs": [],
   "source": [
    "sns.scatterplot(x_coords, y_coords, color='purple')\n",
    "\n",
    "ax = plt.gca()\n",
    "ax.axes.xaxis.set_visible(False)\n",
    "ax.axes.yaxis.set_visible(False)\n",
    "\n",
    "plt.title('Gaussian Clouds Example 1\\nUnclustered Points')\n",
    "plt.show()"
   ]
  },
  {
   "cell_type": "code",
   "execution_count": null,
   "metadata": {},
   "outputs": [],
   "source": [
    "W, D = make_W_D(points, metric, similarity)\n",
    "transition_matrix = np.linalg.inv(D).dot(W)\n",
    "\n",
    "evalues, evectors = np.linalg.eig(transition_matrix)\n",
    "evectors = evectors.T\n",
    "evectors = np.array([evectors[n] for n in range(len(evectors))])\n",
    "idx = evalues.argsort()[::-1]\n",
    "evalues = evalues[idx]\n",
    "evectors = evectors[idx]\n",
    "\n",
    "t_values = np.logspace(start=0, stop=5, num=1000)\n",
    "eigengap_values = get_eigengap_values(t_values, evalues)\n",
    "max_egap_vals, max_attained = get_maximal_eigengap_information(eigengap_values)\n",
    "\n",
    "cluster_colours = make_colours(len(max_attained))\n",
    "\n",
    "for idx, (n_clusters, info) in enumerate(max_attained.items()):\n",
    "    colour = cluster_colours[idx]\n",
    "    if n_clusters == 1:\n",
    "        label = '1 Cluster Maxima'\n",
    "    else:\n",
    "        label = f'{n_clusters} Clusters Maxima'\n",
    "    \n",
    "    plt.axvline(\n",
    "        x = info['n_steps'],\n",
    "        color = colour,\n",
    "        linestyle = '--',\n",
    "        label = label\n",
    "    )\n",
    "\n",
    "plt.title('Gaussian Clouds Example 1\\nMaximal Eigengap Separation')\n",
    "plt.xlabel('Number of Steps')\n",
    "plt.ylabel('Maximal Separation')\n",
    "plt.legend()\n",
    "plt.xscale('log')\n",
    "plt.plot(t_values, list(max_egap_vals.values()), color='green')\n",
    "plt.show()"
   ]
  },
  {
   "cell_type": "code",
   "execution_count": null,
   "metadata": {},
   "outputs": [],
   "source": [
    "output = multiscale_k_prototypes(points, metric, similarity)"
   ]
  },
  {
   "cell_type": "code",
   "execution_count": null,
   "metadata": {},
   "outputs": [],
   "source": [
    "for el in output:\n",
    "    n_clusters = el['n_clusters']\n",
    "    \n",
    "    # skip one-cluster outputs\n",
    "    if n_clusters == 1:\n",
    "        continue\n",
    "    \n",
    "    suitability = int(100 * el['suitability']) / 100\n",
    "    n_steps = el['suitability']\n",
    "    partition = el['partition']\n",
    "    \n",
    "    cluster_colours = make_colours(n_clusters)\n",
    "    \n",
    "    for i, idx_set in enumerate(partition):\n",
    "        colour = cluster_colours[i]\n",
    "        cluster_x_coords = [x_coords[idx] for idx in idx_set]\n",
    "        cluster_y_coords = [y_coords[idx] for idx in idx_set]\n",
    "        sns.scatterplot(\n",
    "            cluster_x_coords, \n",
    "            cluster_y_coords, \n",
    "            color = colour,\n",
    "        )\n",
    "        \n",
    "    ax = plt.gca()\n",
    "    ax.axes.xaxis.set_visible(False)\n",
    "    ax.axes.yaxis.set_visible(False)\n",
    "    \n",
    "    plt.title(f'Gaussian Clouds Example 1\\n{n_clusters} Clusters - Separation {suitability}')\n",
    "    plt.show()"
   ]
  },
  {
   "cell_type": "markdown",
   "metadata": {},
   "source": [
    "# Example 2"
   ]
  },
  {
   "cell_type": "code",
   "execution_count": null,
   "metadata": {},
   "outputs": [],
   "source": [
    "points_filename = '../data/gaussian_clouds_2.pkl'"
   ]
  },
  {
   "cell_type": "code",
   "execution_count": null,
   "metadata": {},
   "outputs": [],
   "source": [
    "with open(points_filename, 'rb') as fp:\n",
    "    points = pickle.load(fp)"
   ]
  },
  {
   "cell_type": "code",
   "execution_count": null,
   "metadata": {},
   "outputs": [],
   "source": [
    "x_coords = [el[0] for el in points]\n",
    "y_coords = [el[1] for el in points]"
   ]
  },
  {
   "cell_type": "code",
   "execution_count": null,
   "metadata": {},
   "outputs": [],
   "source": [
    "sns.scatterplot(x_coords, y_coords, color='purple')\n",
    "\n",
    "ax = plt.gca()\n",
    "ax.axes.xaxis.set_visible(False)\n",
    "ax.axes.yaxis.set_visible(False)\n",
    "\n",
    "plt.title('Gaussian Clouds Example 2\\nUnclustered Points')\n",
    "plt.show()"
   ]
  },
  {
   "cell_type": "code",
   "execution_count": null,
   "metadata": {},
   "outputs": [],
   "source": [
    "MAX_CLUSTERS = 20"
   ]
  },
  {
   "cell_type": "code",
   "execution_count": null,
   "metadata": {},
   "outputs": [],
   "source": [
    "metric = euclid_distance\n",
    "distances = make_distances(points, metric)\n",
    "\n",
    "flat_distances = [el for ls in distances for el in ls]\n",
    "similarity = make_gaussian_similarity_from_percentile(flat_distances, 0.2)\n",
    "\n",
    "W, D = make_W_D(points, metric, similarity)\n",
    "\n",
    "transition_matrix = np.linalg.inv(D).dot(W)\n",
    "\n",
    "evalues, evectors = np.linalg.eig(transition_matrix)\n",
    "evectors = evectors.T\n",
    "evectors = np.array([evectors[n] for n in range(len(evectors))])\n",
    "idx = evalues.argsort()[::-1]\n",
    "evalues = evalues[idx]\n",
    "evectors = evectors[idx]\n",
    "\n",
    "t_values = np.logspace(start=0, stop=8, num=1000)\n",
    "eigengap_values = get_eigengap_values(t_values, evalues, MAX_CLUSTERS)\n",
    "max_egap_vals, max_attained = get_maximal_eigengap_information(eigengap_values)\n",
    "\n",
    "colours = make_colours(len(max_attained))\n",
    "\n",
    "for idx, cluster in enumerate(max_attained):\n",
    "    cluster_colour = colours[idx]\n",
    "    cluster_egap_separation_values = list(eigengap_values[cluster].values())\n",
    "    plt.plot(t_values, cluster_egap_separation_values, color=cluster_colour)\n",
    "    maxima_value = max_attained[cluster]['suitability']\n",
    "    maxima_location = max_attained[cluster]['n_steps']\n",
    "    plt.axvline(\n",
    "        x = maxima_location,\n",
    "        color = cluster_colour,\n",
    "        linestyle = '--',\n",
    "        label = f'{cluster} Clusters Maxima'\n",
    "    )\n",
    "\n",
    "plt.ylim(0, 1.2)\n",
    "plt.xscale('log')\n",
    "plt.xlabel('Number of Steps')\n",
    "plt.ylabel('Maximal Separation')\n",
    "plt.legend()\n",
    "plt.title(f'Gaussian Clouds Example 2\\nMaximal Eigengap Separation')\n",
    "plt.show()"
   ]
  },
  {
   "cell_type": "code",
   "execution_count": null,
   "metadata": {},
   "outputs": [],
   "source": [
    "output = multiscale_k_prototypes(\n",
    "    points,\n",
    "    metric,\n",
    "    similarity,\n",
    "    max_clusters = MAX_CLUSTERS\n",
    ")"
   ]
  },
  {
   "cell_type": "code",
   "execution_count": null,
   "metadata": {},
   "outputs": [],
   "source": [
    "for el in output:\n",
    "    n_clusters = el['n_clusters']\n",
    "    \n",
    "    # skip one-cluster outputs\n",
    "    if n_clusters == 1:\n",
    "        continue\n",
    "    \n",
    "    suitability = int(100 * el['suitability']) / 100\n",
    "    n_steps = el['suitability']\n",
    "    partition = el['partition']\n",
    "    \n",
    "    cluster_colours = make_colours(n_clusters)\n",
    "    \n",
    "    for i, idx_set in enumerate(partition):\n",
    "        colour = cluster_colours[i]\n",
    "        cluster_x_coords = [x_coords[idx] for idx in idx_set]\n",
    "        cluster_y_coords = [y_coords[idx] for idx in idx_set]\n",
    "        sns.scatterplot(\n",
    "            cluster_x_coords, \n",
    "            cluster_y_coords, \n",
    "            color = colour,\n",
    "        )\n",
    "    \n",
    "    ax = plt.gca()\n",
    "    ax.axes.xaxis.set_visible(False)\n",
    "    ax.axes.yaxis.set_visible(False)\n",
    "    \n",
    "    plt.title(f'{n_clusters} Clusters - Separation {suitability}')\n",
    "    plt.title(f'Gaussian Clouds Example 2\\n{n_clusters} Clusters - Separation {suitability}')\n",
    "    plt.show()"
   ]
  },
  {
   "cell_type": "markdown",
   "metadata": {},
   "source": [
    "Verify that point at the bottom-left has the largest distance to nearest neighbour of all points in the space"
   ]
  },
  {
   "cell_type": "code",
   "execution_count": null,
   "metadata": {},
   "outputs": [],
   "source": [
    "leftmost_x_coord = min(x[0] for x in points)\n",
    "leftmost_point = [x for x in points if np.isclose(x[0], leftmost_x_coord)][0]\n",
    "other_points = [x for x in points if not np.isclose(x[0], leftmost_x_coord)]"
   ]
  },
  {
   "cell_type": "code",
   "execution_count": null,
   "metadata": {},
   "outputs": [],
   "source": [
    "plt.scatter(leftmost_point[0], leftmost_point[1], color='red')\n",
    "for other in other_points:\n",
    "    plt.scatter(other[0], other[1], color='purple')\n",
    "    \n",
    "plt.title('Red - \"bottom left\" point, other points in purple')\n",
    "plt.show()"
   ]
  },
  {
   "cell_type": "code",
   "execution_count": null,
   "metadata": {},
   "outputs": [],
   "source": [
    "leftmost_point"
   ]
  },
  {
   "cell_type": "markdown",
   "metadata": {},
   "source": [
    "Find, for each point, the distance to its nearest neighbour"
   ]
  },
  {
   "cell_type": "code",
   "execution_count": null,
   "metadata": {},
   "outputs": [],
   "source": [
    "minimum_distances = {}\n",
    "\n",
    "for pt in points:\n",
    "    other_points = [\n",
    "        point\n",
    "        for point in points\n",
    "        if not np.isclose(point[0], pt[0]) or not np.isclose(point[1], pt[1])\n",
    "    ]\n",
    "    distances = [metric(pt, other) for other in other_points]\n",
    "    minimum_distances[pt[0]] = min(distances)"
   ]
  },
  {
   "cell_type": "markdown",
   "metadata": {},
   "source": [
    "Find the maximum such distance and verify it belongs to the bottom-left point"
   ]
  },
  {
   "cell_type": "code",
   "execution_count": null,
   "metadata": {},
   "outputs": [],
   "source": [
    "min_key = sorted(\n",
    "    minimum_distances.keys(),\n",
    "    key = lambda x: minimum_distances[x]\n",
    ")[-1]\n",
    "\n",
    "minimum_distances[min_key]"
   ]
  },
  {
   "cell_type": "code",
   "execution_count": null,
   "metadata": {},
   "outputs": [],
   "source": [
    "full_points = points.copy()\n",
    "reduced_points = [pt for pt in points if not np.isclose(pt[0], leftmost_point[0])]"
   ]
  },
  {
   "cell_type": "code",
   "execution_count": null,
   "metadata": {},
   "outputs": [],
   "source": [
    "metric = euclid_distance"
   ]
  },
  {
   "cell_type": "code",
   "execution_count": null,
   "metadata": {},
   "outputs": [],
   "source": [
    "full_distances = make_distances(full_points, metric)\n",
    "reduced_distances = make_distances(reduced_points, metric)\n",
    "\n",
    "full_flat_distances = [el for ls in full_distances for el in ls]\n",
    "reduced_flat_distances = [el for ls in reduced_distances for el in ls]\n",
    "\n",
    "full_similarity = make_gaussian_similarity_from_percentile(full_flat_distances, 0.2)\n",
    "reduced_similarity = make_gaussian_similarity_from_percentile(reduced_flat_distances, 0.2)\n",
    "\n",
    "full_W, full_D = make_W_D(full_points, metric, full_similarity)\n",
    "reduced_W, reduced_D = make_W_D(reduced_points, metric, reduced_similarity)\n",
    "\n",
    "full_transition_matrix = np.linalg.inv(full_D).dot(full_W)\n",
    "reduced_transition_matrix = np.linalg.inv(reduced_D).dot(reduced_W)\n",
    "\n",
    "full_evalues, full_evectors = np.linalg.eig(full_transition_matrix)\n",
    "full_evectors = full_evectors.T\n",
    "full_evectors = np.array([full_evectors[n] for n in range(len(full_evectors))])\n",
    "idx = full_evalues.argsort()[::-1]\n",
    "full_evalues = full_evalues[idx]\n",
    "full_evectors = full_evectors[idx]\n",
    "\n",
    "reduced_evalues, reduced_evectors = np.linalg.eig(reduced_transition_matrix)\n",
    "reduced_evectors = reduced_evectors.T\n",
    "reduced_evectors = np.array([reduced_evectors[n] for n in range(len(reduced_evectors))])\n",
    "idx = reduced_evalues.argsort()[::-1]\n",
    "reduced_evalues = reduced_evalues[idx]\n",
    "reduced_evectors = reduced_evectors[idx]"
   ]
  },
  {
   "cell_type": "code",
   "execution_count": null,
   "metadata": {},
   "outputs": [],
   "source": [
    "full_evalues[:15]"
   ]
  },
  {
   "cell_type": "code",
   "execution_count": null,
   "metadata": {},
   "outputs": [],
   "source": [
    "full_evalues[:15] ** 6915"
   ]
  },
  {
   "cell_type": "code",
   "execution_count": null,
   "metadata": {},
   "outputs": [],
   "source": [
    "reduced_evalues[:15]"
   ]
  },
  {
   "cell_type": "code",
   "execution_count": null,
   "metadata": {},
   "outputs": [],
   "source": [
    "reduced_evalues[:15] ** 6915"
   ]
  },
  {
   "cell_type": "code",
   "execution_count": null,
   "metadata": {},
   "outputs": [],
   "source": [
    "metric = euclid_distance\n",
    "distances = make_distances(other_points, metric)\n",
    "\n",
    "flat_distances = [el for ls in distances for el in ls]\n",
    "similarity = make_gaussian_similarity_from_percentile(flat_distances, 0.2)\n",
    "\n",
    "W, D = make_W_D(other_points, metric, similarity)\n",
    "\n",
    "transition_matrix = np.linalg.inv(D).dot(W)\n",
    "\n",
    "evalues, evectors = np.linalg.eig(transition_matrix)\n",
    "evectors = evectors.T\n",
    "evectors = np.array([evectors[n] for n in range(len(evectors))])\n",
    "idx = evalues.argsort()[::-1]\n",
    "evalues = evalues[idx]\n",
    "evectors = evectors[idx]\n",
    "\n",
    "t_values = np.logspace(start=0, stop=8, num=1000)\n",
    "eigengap_values = get_eigengap_values(t_values, evalues, MAX_CLUSTERS)\n",
    "max_egap_vals, max_attained = get_maximal_eigengap_information(eigengap_values)\n",
    "\n",
    "colours = make_colours(len(max_attained))\n",
    "\n",
    "for idx, cluster in enumerate(max_attained):\n",
    "    cluster_colour = colours[idx]\n",
    "    cluster_egap_separation_values = list(eigengap_values[cluster].values())\n",
    "    plt.plot(t_values, cluster_egap_separation_values, color=cluster_colour)\n",
    "    maxima_value = max_attained[cluster]['suitability']\n",
    "    maxima_location = max_attained[cluster]['n_steps']\n",
    "    plt.axvline(\n",
    "        x = maxima_location,\n",
    "        color = cluster_colour,\n",
    "        linestyle = '--',\n",
    "        label = f'{cluster} Clusters Maxima'\n",
    "    )\n",
    "\n",
    "plt.ylim(0, 1.2)\n",
    "plt.xscale('log')\n",
    "plt.xlabel('Number of Steps')\n",
    "plt.ylabel('Maximal Separation')\n",
    "plt.legend()\n",
    "plt.title(f'Gaussian Clouds Example 2 - Point Removed\\nMaximal Eigengap Separation')\n",
    "plt.show()"
   ]
  },
  {
   "cell_type": "code",
   "execution_count": null,
   "metadata": {},
   "outputs": [],
   "source": [
    "point_removed_output = multiscale_k_prototypes(\n",
    "    reduced_points,\n",
    "    metric,\n",
    "    reduced_similarity,\n",
    "    max_clusters = MAX_CLUSTERS\n",
    ")"
   ]
  },
  {
   "cell_type": "code",
   "execution_count": null,
   "metadata": {},
   "outputs": [],
   "source": [
    "point_removed_output"
   ]
  },
  {
   "cell_type": "markdown",
   "metadata": {},
   "source": [
    "### Impact of the Similarity Function"
   ]
  },
  {
   "cell_type": "code",
   "execution_count": null,
   "metadata": {},
   "outputs": [],
   "source": [
    "metric = euclid_distance\n",
    "distances = make_distances(full_points, metric)\n",
    "\n",
    "flat_distances = [el for ls in distances for el in ls]\n",
    "\n",
    "similarity_functions = [\n",
    "    ('inverse', lambda x: 1/x),\n",
    "    ('inverse_squared', lambda x: 1/(x**2)),\n",
    "    ('inverse_cubed', lambda x: 1/(x**3)),\n",
    "    ('inverse_power_four', lambda x: 1/(x**4)),\n",
    "    ('inverse_power_five', lambda x: (1/(x**5))),\n",
    "    ('inverse_power_six', lambda x: (1/(x**6))),\n",
    "    \n",
    "]\n",
    "\n",
    "for similarity_name, similarity in similarity_functions:\n",
    "    W, D = make_W_D(other_points, metric, similarity)\n",
    "\n",
    "    transition_matrix = np.linalg.inv(D).dot(W)\n",
    "\n",
    "    evalues, evectors = np.linalg.eig(transition_matrix)\n",
    "    evectors = evectors.T\n",
    "    evectors = np.array([evectors[n] for n in range(len(evectors))])\n",
    "    idx = evalues.argsort()[::-1]\n",
    "    evalues = evalues[idx]\n",
    "    evectors = evectors[idx]\n",
    "\n",
    "    t_values = np.logspace(start=0, stop=8, num=1000)\n",
    "    eigengap_values = get_eigengap_values(t_values, evalues, MAX_CLUSTERS)\n",
    "    max_egap_vals, max_attained = get_maximal_eigengap_information(eigengap_values)\n",
    "\n",
    "    colours = make_colours(len(max_attained))\n",
    "\n",
    "    # plt.plot(t_values, list(max_egap_vals.values()), lw=2.5, color='green')\n",
    "\n",
    "    for idx, cluster in enumerate(max_attained):\n",
    "        cluster_colour = colours[idx]\n",
    "        cluster_egap_separation_values = list(eigengap_values[cluster].values())\n",
    "        plt.plot(t_values, cluster_egap_separation_values, color=cluster_colour)\n",
    "        maxima_value = max_attained[cluster]['suitability']\n",
    "        maxima_location = max_attained[cluster]['n_steps']\n",
    "        plt.axvline(\n",
    "            x = maxima_location,\n",
    "            color = cluster_colour,\n",
    "            linestyle = '--',\n",
    "            label = f'{cluster} Clusters Maxima'\n",
    "        )\n",
    "\n",
    "    plt.ylim(0, 1.2)\n",
    "    plt.xscale('log')\n",
    "    plt.xlabel('Number of Steps')\n",
    "    plt.ylabel('Maximal Separation')\n",
    "    plt.legend()\n",
    "    plt.title(f'Similarity {similarity_name}')\n",
    "    \n",
    "    plt.show()"
   ]
  },
  {
   "cell_type": "code",
   "execution_count": null,
   "metadata": {},
   "outputs": [],
   "source": [
    "clusters = [1,2,3,4,5,8,15]\n",
    "cluster_colours = make_colours(len(clusters))\n",
    "\n",
    "custom_colours = {cluster: cluster_colours[idx] for idx, cluster in enumerate(clusters)}"
   ]
  },
  {
   "cell_type": "code",
   "execution_count": null,
   "metadata": {},
   "outputs": [],
   "source": [
    "metric = euclid_distance\n",
    "distances = make_distances(full_points, metric)\n",
    "\n",
    "flat_distances = [el for ls in distances for el in ls]\n",
    "\n",
    "similarity = make_gaussian_similarity_from_percentile(flat_distances, 0.2)\n",
    "\n",
    "similarity_percentiles = [0.2, 0.5]\n",
    "\n",
    "for percentile in similarity_percentiles:\n",
    "    similarity_sigma = np.percentile(flat_distances, percentile)\n",
    "    similarity = make_gaussian_similarity(similarity_sigma)\n",
    "    \n",
    "    print(f'percentile = {percentile}')\n",
    "    print(f'sigma = {similarity_sigma}')\n",
    "\n",
    "    W, D = make_W_D(other_points, metric, similarity)\n",
    "\n",
    "    transition_matrix = np.linalg.inv(D).dot(W)\n",
    "\n",
    "    evalues, evectors = np.linalg.eig(transition_matrix)\n",
    "    evectors = evectors.T\n",
    "    evectors = np.array([evectors[n] for n in range(len(evectors))])\n",
    "    idx = evalues.argsort()[::-1]\n",
    "    evalues = evalues[idx]\n",
    "    evectors = evectors[idx]\n",
    "\n",
    "    t_values = np.logspace(start=0, stop=11, num=1000)\n",
    "    eigengap_values = get_eigengap_values(t_values, evalues, MAX_CLUSTERS)\n",
    "    max_egap_vals, max_attained = get_maximal_eigengap_information(eigengap_values)\n",
    "\n",
    "    colours = make_colours(len(max_attained))\n",
    "\n",
    "    for idx, cluster in enumerate(max_attained):\n",
    "        cluster_colour = colours[idx]\n",
    "        cluster_egap_separation_values = list(eigengap_values[cluster].values())\n",
    "        plt.plot(t_values, cluster_egap_separation_values, color=cluster_colour)\n",
    "        maxima_value = max_attained[cluster]['suitability']\n",
    "        maxima_location = max_attained[cluster]['n_steps']\n",
    "        plt.axvline(\n",
    "            x = maxima_location,\n",
    "            color = cluster_colour,\n",
    "            linestyle = '--',\n",
    "            label = f'{cluster} Clusters Maxima'\n",
    "        )\n",
    "        \n",
    "    title_sigma = int(1000*similarity_sigma) / 1000\n",
    "\n",
    "    plt.ylim(0, 1.2)\n",
    "    plt.xscale('log')\n",
    "    plt.xlabel('Number of Steps')\n",
    "    plt.ylabel('Maximal Separation')\n",
    "    plt.legend()\n",
    "    plt.title(f'Gaussian Clouds Example 2\\nImpact of the Similarity Function\\n$\\sigma = {title_sigma}$')\n",
    "    \n",
    "    percentile_str = str(percentile).replace('.', '_pt_')\n",
    "    plt.show()"
   ]
  }
 ],
 "metadata": {
  "kernelspec": {
   "display_name": "thesis",
   "language": "python",
   "name": "thesis"
  },
  "language_info": {
   "codemirror_mode": {
    "name": "ipython",
    "version": 3
   },
   "file_extension": ".py",
   "mimetype": "text/x-python",
   "name": "python",
   "nbconvert_exporter": "python",
   "pygments_lexer": "ipython3",
   "version": "3.8.5"
  }
 },
 "nbformat": 4,
 "nbformat_minor": 4
}
